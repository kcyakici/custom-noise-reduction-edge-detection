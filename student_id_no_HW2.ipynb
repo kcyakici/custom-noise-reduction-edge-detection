{
 "cells": [
  {
   "cell_type": "markdown",
   "id": "2c6b08ac",
   "metadata": {},
   "source": [
    "## Homework #2 - Due Date: 01 Nov, 23:59##"
   ]
  },
  {
   "cell_type": "markdown",
   "id": "a420008a",
   "metadata": {},
   "source": [
    "Instructions:\n",
    "1. Upload a personal image in a hosting place that can be accessed using an URL. Alternatively, you can pick an image from an URL already available (but not the ones used in the lecture).\n",
    "2. Convert your image into grayscale (you can use any library for this).\n",
    "3. Add salt and pepper noise with a probability of 0.15. That is to say 15% of pixels are affected by the noise (you can use any library for this).\n",
    "4. Perform averaging filter and median filter with various sizes (you can use any library for this) on the noisy image. Compare the results by displaying images. Comment on the results.\n",
    "5. Take the original image (Step 2). Implement Robert's filters by yourself:\n",
    "\\begin{bmatrix}\n",
    "\\ \\ -1 & \\ \\ 0  \\\\\\\\\n",
    "\\ \\ 0 & \\ \\ 1  \n",
    "\\end{bmatrix}\n",
    "and\n",
    "\\begin{bmatrix}\n",
    "\\ \\ 0 & \\ \\ -1  \\\\\\\\\n",
    "\\ \\ 1 & \\ \\ 0  \n",
    "\\end{bmatrix}\n",
    "Use these kernels for edge detection. Show the results.\n",
    "6. Take the original image (Step 2). Use Canny Edge Detector incorporated in OpenCV. Pick two different sets of hysteresis thresholds. What can you tell about the effect on the obtained edges? Write your comments."
   ]
  },
  {
   "cell_type": "code",
   "execution_count": null,
   "id": "54b267e7",
   "metadata": {},
   "outputs": [],
   "source": []
  },
  {
   "cell_type": "code",
   "execution_count": null,
   "id": "52f9087b",
   "metadata": {},
   "outputs": [],
   "source": []
  },
  {
   "cell_type": "code",
   "execution_count": null,
   "id": "ebad5170",
   "metadata": {},
   "outputs": [],
   "source": []
  },
  {
   "cell_type": "code",
   "execution_count": null,
   "id": "e9f5a040",
   "metadata": {},
   "outputs": [],
   "source": []
  },
  {
   "cell_type": "code",
   "execution_count": null,
   "id": "902d01d4",
   "metadata": {},
   "outputs": [],
   "source": []
  },
  {
   "cell_type": "code",
   "execution_count": null,
   "id": "9605a490",
   "metadata": {},
   "outputs": [],
   "source": []
  }
 ],
 "metadata": {
  "kernelspec": {
   "display_name": "Python 3 (ipykernel)",
   "language": "python",
   "name": "python3"
  },
  "language_info": {
   "codemirror_mode": {
    "name": "ipython",
    "version": 3
   },
   "file_extension": ".py",
   "mimetype": "text/x-python",
   "name": "python",
   "nbconvert_exporter": "python",
   "pygments_lexer": "ipython3",
   "version": "3.8.10"
  }
 },
 "nbformat": 4,
 "nbformat_minor": 5
}
